{
 "cells": [
  {
   "cell_type": "code",
   "execution_count": null,
   "metadata": {},
   "outputs": [],
   "source": [
    "import os\n",
    "import platform\n",
    "from tempfile import TemporaryDirectory\n",
    "from pathlib import Path\n",
    "import pytesseract\n",
    "from pdf2image import convert_from_path\n",
    "from PIL import Image"
   ]
  },
  {
   "cell_type": "code",
   "execution_count": null,
   "metadata": {},
   "outputs": [],
   "source": [
    "Path(r\"~\\Desktop\").expanduser()"
   ]
  },
  {
   "cell_type": "code",
   "execution_count": null,
   "metadata": {},
   "outputs": [],
   "source": [
    "def ocr(pdf_path):\n",
    "    pytesseract.pytesseract.tesseract_cmd = (r\"C:\\Program Files\\Tesseract-OCR\\tesseract.exe\")\n",
    "    PDF_file = pdf_path\n",
    "    # Windows also needs poppler_exe\n",
    "    path_to_poppler_exe = Path(r\"C:\\poppler-0.68.0\\bin\")\n",
    "\n",
    "    # Put our output files in a sane place...\n",
    "    out_directory = Path(r'C:\\Users\\Tahsin Sayed\\Desktop\\Image_to_text\\Form C\\Output Text File')\n",
    "\n",
    "    # Store all the pages of the PDF in a variable\n",
    "    image_file_list = []\n",
    "    text_file = 'C:\\\\Users\\\\Tahsin Sayed\\\\Desktop\\\\Image_to_text\\\\Form C\\\\Output Text File\\\\' + pdf_path.rsplit('\\\\', 1)[-1].split('.pdf', 1)[0] + \".txt\"\n",
    "    \n",
    "\n",
    "\n",
    "    print(text_file)\n",
    "    with TemporaryDirectory() as tempdir:\n",
    "        if platform.system() == \"Windows\":\n",
    "            pdf_pages = convert_from_path(\n",
    "                PDF_file, 350, poppler_path=path_to_poppler_exe\n",
    "            )\n",
    "        else:\n",
    "            pdf_pages = convert_from_path(PDF_file, 500)\n",
    "        # Read in the PDF file at 500 DPI\n",
    "\n",
    "        # Iterate through all the pages stored above\n",
    "        for page_enumeration, page in enumerate(pdf_pages, start=1):\n",
    "            # enumerate() \"counts\" the pages for us.\n",
    "\n",
    "            # Create a file name to store the image\n",
    "            filename = f\"{tempdir}\\page_{page_enumeration:03}.jpg\"\n",
    "            page.save(filename, \"JPEG\")\n",
    "            image_file_list.append(filename)\n",
    "\n",
    "        \"\"\"\n",
    "        Part #2 - Recognizing text from the images using OCR\n",
    "        \"\"\"\n",
    "        # print('Converting ' + pdf_path)\n",
    "        with open(text_file, \"a\") as output_file:\n",
    "            for image_file in image_file_list:\n",
    "                text = str(((pytesseract.image_to_string(Image.open(image_file)))))\n",
    "\n",
    "                text = text.replace(\"-\\n\", \"\")\n",
    "\n",
    "                # Finally, write the processed text to the file.\n",
    "                output_file.write(text)\n",
    "\n"
   ]
  },
  {
   "cell_type": "code",
   "execution_count": 8,
   "metadata": {},
   "outputs": [],
   "source": [
    "import time\n",
    "for x in os.listdir(r'Form C'):\n",
    "    if '.pdf' not in x:\n",
    "        print(x)\n",
    "        continue\n",
    "\n",
    "    #Check log file whether x is done converted. \n",
    "    \n",
    "    log_path = r'C:\\Users\\Tahsin Sayed\\Desktop\\Image_to_text\\Form C\\log.txt'\n",
    "    \n",
    "    with open(log_path, 'r') as log_file:\n",
    "        if x + '\\n' in log_file.readlines():\n",
    "            print(x , ' is done.')\n",
    "            continue\n",
    "    file_path = os.getcwd() + '\\Form C\\\\' + x\n",
    "    # print(Path(file_path))\n",
    "    # print(Path(file_path).rstrip('\\\\', 1))\n",
    "    try:\n",
    "        ocr(file_path)\n",
    "\n",
    "          \n",
    "        #Append log file with x \n",
    "        with open(log_path, 'a') as log_file:\n",
    "            log_file.write(x)\n",
    "            print(x, ' is done and logged.')\n",
    "\n",
    "    except Exception as e:\n",
    "        pass "
   ]
  },
  {
   "cell_type": "code",
   "execution_count": null,
   "metadata": {},
   "outputs": [],
   "source": [
    "os.listdir(r'Form C')"
   ]
  }
 ],
 "metadata": {
  "kernelspec": {
   "display_name": "Python 3.9.0 64-bit",
   "language": "python",
   "name": "python3"
  },
  "language_info": {
   "codemirror_mode": {
    "name": "ipython",
    "version": 3
   },
   "file_extension": ".py",
   "mimetype": "text/x-python",
   "name": "python",
   "nbconvert_exporter": "python",
   "pygments_lexer": "ipython3",
   "version": "3.9.0"
  },
  "orig_nbformat": 4,
  "vscode": {
   "interpreter": {
    "hash": "8bc0295d3e35c12602cb77450337f13d6dc78e35e6180f390052e59462a633dc"
   }
  }
 },
 "nbformat": 4,
 "nbformat_minor": 2
}
