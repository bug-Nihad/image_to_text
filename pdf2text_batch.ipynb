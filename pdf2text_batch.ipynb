{
 "cells": [
  {
   "cell_type": "code",
   "execution_count": 6,
   "metadata": {},
   "outputs": [],
   "source": [
    "import os\n",
    "import platform\n",
    "from tempfile import TemporaryDirectory\n",
    "from pathlib import Path\n",
    "\n",
    "import pytesseract\n",
    "from pdf2image import convert_from_path\n",
    "from PIL import Image"
   ]
  },
  {
   "cell_type": "code",
   "execution_count": 29,
   "metadata": {},
   "outputs": [
    {
     "data": {
      "text/plain": [
       "WindowsPath('C:/Users/Tahsin Sayed/Desktop')"
      ]
     },
     "execution_count": 29,
     "metadata": {},
     "output_type": "execute_result"
    }
   ],
   "source": [
    "Path(r\"~\\Desktop\").expanduser()"
   ]
  },
  {
   "cell_type": "code",
   "execution_count": 1,
   "metadata": {},
   "outputs": [],
   "source": [
    "def ocr(pdf_path):\n",
    "    pytesseract.pytesseract.tesseract_cmd = (r\"C:\\Program Files\\Tesseract-OCR\\tesseract.exe\")\n",
    "    PDF_file = pdf_path\n",
    "    # Windows also needs poppler_exe\n",
    "    path_to_poppler_exe = Path(r\"C:\\poppler-0.68.0\\bin\")\n",
    "\n",
    "    # Put our output files in a sane place...\n",
    "    out_directory = Path(r'C:\\Users\\Tahsin Sayed\\Desktop\\Image_to_text\\Form C\\Output Text File')\n",
    "\n",
    "    # Store all the pages of the PDF in a variable\n",
    "    image_file_list = []\n",
    "    text_file = r'C:\\Users\\Tahsin Sayed\\Desktop\\Image_to_text\\Form C\\Output Text File\\\\' + pdf_path.rsplit('\\\\', 1)[-1].split('.pdf', 1)[0] + \".txt\"\n",
    "\n",
    "    print(text_file)\n",
    "    with TemporaryDirectory() as tempdir:\n",
    "        if platform.system() == \"Windows\":\n",
    "            pdf_pages = convert_from_path(\n",
    "                PDF_file, 500, poppler_path=path_to_poppler_exe\n",
    "            )\n",
    "        else:\n",
    "            pdf_pages = convert_from_path(PDF_file, 500)\n",
    "        # Read in the PDF file at 500 DPI\n",
    "\n",
    "        # Iterate through all the pages stored above\n",
    "        for page_enumeration, page in enumerate(pdf_pages, start=1):\n",
    "            # enumerate() \"counts\" the pages for us.\n",
    "\n",
    "            # Create a file name to store the image\n",
    "            filename = f\"{tempdir}\\page_{page_enumeration:03}.jpg\"\n",
    "            page.save(filename, \"JPEG\")\n",
    "            image_file_list.append(filename)\n",
    "\n",
    "        \"\"\"\n",
    "        Part #2 - Recognizing text from the images using OCR\n",
    "        \"\"\"\n",
    "        # print('Converting ' + pdf_path)\n",
    "        with open(text_file, \"a\") as output_file:\n",
    "            for image_file in image_file_list:\n",
    "                text = str(((pytesseract.image_to_string(Image.open(image_file)))))\n",
    "\n",
    "                text = text.replace(\"-\\n\", \"\")\n",
    "\n",
    "                # Finally, write the processed text to the file.\n",
    "                output_file.write(text)\n",
    "\n"
   ]
  },
  {
   "cell_type": "code",
   "execution_count": 21,
   "metadata": {},
   "outputs": [
    {
     "name": "stdout",
     "output_type": "stream",
     "text": [
      "C:\\Users\\Tahsin Sayed\\Desktop\\Image_to_text\\Form C\\Output Text File\\\\Airemos Corp2019.txt\n",
      "C:\\Users\\Tahsin Sayed\\Desktop\\Image_to_text\\Form C\\Output Text File\\\\Akibah Health Corporation2019.txt\n"
     ]
    }
   ],
   "source": [
    "import time\n",
    "for x in os.listdir(r'Form C'):\n",
    "    if '.pdf' not in x:\n",
    "        print(x)\n",
    "        continue\n",
    "    file_path = os.getcwd() + '\\Form C\\\\' + x\n",
    "    # print(Path(file_path))\n",
    "    # print(Path(file_path).rstrip('\\\\', 1))\n",
    "    try:\n",
    "        ocr(file_path)\n",
    "    except Exception as e:\n",
    "        print(e)\n",
    "        pass \n",
    "    # print(file_path.rsplit('\\\\', 1)[-1].split('.pdf', 1)[0])\n",
    "    # ocr('pdf_path')\n",
    "    # print(pdf_path)\n",
    "    \n",
    "\n",
    "\n"
   ]
  },
  {
   "cell_type": "code",
   "execution_count": 15,
   "metadata": {},
   "outputs": [
    {
     "data": {
      "text/plain": [
       "['Airemos Corp2019.pdf',\n",
       " 'Akibah Health Corporation2019.pdf',\n",
       " 'Alta Zero Emissions Solutions Inc.2019.pdf',\n",
       " 'Arygin Corporation2019.pdf',\n",
       " 'Atlis Motor Vehicle Inc.2019.pdf',\n",
       " 'Bazooka Jane Inc. dba Trusst Brands2019.pdf',\n",
       " 'Bein Carib Inc.2019.pdf',\n",
       " 'BREAKING NORMAL INC.2019.pdf',\n",
       " 'ChalkBites, Inc.2019.pdf',\n",
       " 'Cheaters III Ltd.2019.pdf',\n",
       " 'Companion CBD, Inc.2019.pdf',\n",
       " 'Dapper Boi, Inc.2019.pdf',\n",
       " 'Denteractive Solutions Inc.2019.pdf',\n",
       " 'Dine Inc.2019.pdf',\n",
       " 'Eclipse Diagnostics Inc.2019.pdf',\n",
       " 'Eden GeoPower, Inc.2019.pdf',\n",
       " 'El Tinieblo International, Inc.2019.pdf',\n",
       " 'Esportz Entertainment Corp.2019.pdf',\n",
       " 'Goffee, Inc.2019.pdf',\n",
       " 'Goffee, Inc2019.pdf',\n",
       " 'HotSpotMe, Inc.2019.pdf',\n",
       " 'Intelligent Beverage Technology, Inc.2019.pdf',\n",
       " 'Liberty PlugIns, Inc.2019.pdf',\n",
       " 'Life Imaging Fla, Inc.2019.pdf',\n",
       " 'Metai Knights Media Inc2019.pdf',\n",
       " 'Nannocare Inc.2019.pdf',\n",
       " 'Osiris Media Corp.2019.pdf',\n",
       " 'Output Text File',\n",
       " 'PerFIcT Inc.2019.pdf',\n",
       " 'Personal Airline Exchange, Inc.2019.pdf',\n",
       " 'Phillips Entertainment Group Inc.2019.pdf',\n",
       " 'Phormed Inc2019.pdf',\n",
       " 'Play Fantasy Sports Corp2019.pdf',\n",
       " 'Prime Lightworks Inc.2019.pdf',\n",
       " 'Rentah, Inc.2019.pdf',\n",
       " 'Rhino Hide LLC2019.pdf',\n",
       " 'Roy Jones Jr. Promotions, Inc.2019.pdf',\n",
       " 'Rumble Motors, Inc.2019.pdf',\n",
       " 'Seat Amigo Inc.2019.pdf',\n",
       " 'SitTight, Inc.2019.pdf',\n",
       " 'Skunk Brothers Spirits Inc.2019.pdf',\n",
       " 'SmartSoda Holdings, Inc.2019.pdf',\n",
       " 'South Plains Petroleum Inc2019.pdf',\n",
       " 'StorEn Technologies2019.pdf',\n",
       " 'Tall Idea Labs, Inc.2019.pdf',\n",
       " 'THATS EATERTAINMENT, CORP.2019.pdf',\n",
       " 'The 360 ONLY Novelty Co.2019.pdf',\n",
       " 'Third Coast Aviation Inc.2019.pdf',\n",
       " 'Toy Overlord Inc2019.pdf',\n",
       " 'TriplePulse, Inc.2019.pdf',\n",
       " 'VLISO Inc.2019.pdf',\n",
       " 'W.K.D. Style Enterprises Inc2019.pdf',\n",
       " 'WaterRR, Inc.2019.pdf',\n",
       " 'XTI Aircraft Company2019.pdf']"
      ]
     },
     "execution_count": 15,
     "metadata": {},
     "output_type": "execute_result"
    }
   ],
   "source": [
    "os.listdir(r'Form C')"
   ]
  }
 ],
 "metadata": {
  "kernelspec": {
   "display_name": "Python 3.9.0 64-bit",
   "language": "python",
   "name": "python3"
  },
  "language_info": {
   "codemirror_mode": {
    "name": "ipython",
    "version": 3
   },
   "file_extension": ".py",
   "mimetype": "text/x-python",
   "name": "python",
   "nbconvert_exporter": "python",
   "pygments_lexer": "ipython3",
   "version": "3.9.0"
  },
  "orig_nbformat": 4,
  "vscode": {
   "interpreter": {
    "hash": "8bc0295d3e35c12602cb77450337f13d6dc78e35e6180f390052e59462a633dc"
   }
  }
 },
 "nbformat": 4,
 "nbformat_minor": 2
}
