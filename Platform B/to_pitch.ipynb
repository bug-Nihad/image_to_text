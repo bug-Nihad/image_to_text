{
 "cells": [
  {
   "cell_type": "code",
   "execution_count": null,
   "metadata": {},
   "outputs": [],
   "source": [
    "import os\n",
    "import platform\n",
    "from tempfile import TemporaryDirectory\n",
    "from pathlib import Path\n",
    "import time\n",
    "import pytesseract\n",
    "from pdf2image import convert_from_path\n",
    "from PIL import Image\n",
    "import os\n",
    "import platform\n",
    "from tempfile import TemporaryDirectory\n",
    "from pathlib import Path\n",
    "import time\n",
    "import pytesseract\n",
    "from pdf2image import convert_from_path\n",
    "from PIL import Image"
   ]
  },
  {
   "cell_type": "code",
   "execution_count": null,
   "metadata": {},
   "outputs": [],
   "source": [
    "pytesseract.pytesseract.tesseract_cmd = (r\"C:\\Program Files\\Tesseract-OCR\\tesseract.exe\")\n",
    "# PDF_file = pdf_path\n",
    "# Windows also needs poppler_exe\n",
    "path_to_poppler_exe = Path(r\"C:\\poppler-0.68.0\\bin\")"
   ]
  },
  {
   "cell_type": "code",
   "execution_count": null,
   "metadata": {},
   "outputs": [],
   "source": [
    "def img_to_text(file_path, text_file):\n",
    "    # print(file_path)\n",
    "    text = str(((pytesseract.image_to_string(Image.open(file_path)))))\n",
    "    with open(text_file, 'w') as file:\n",
    "        file.write(text)\n",
    "        print('Done')"
   ]
  },
  {
   "cell_type": "code",
   "execution_count": null,
   "metadata": {},
   "outputs": [],
   "source": [
    "def pdf_to_txt(pdf_path, text_file_path):\n",
    "    PDF_file = pdf_path\n",
    "    # Store all the pages of the PDF in a variable\n",
    "    image_file_list = []\n",
    "    with TemporaryDirectory() as tempdir:\n",
    "        if platform.system() == \"Windows\":\n",
    "            pdf_pages = convert_from_path(\n",
    "                PDF_file, 400, poppler_path=path_to_poppler_exe\n",
    "            )\n",
    "        else:\n",
    "            pdf_pages = convert_from_path(PDF_file, 500)\n",
    "        # Read in the PDF file at 500 DPI\n",
    "\n",
    "        # Iterate through all the pages stored above\n",
    "        for page_enumeration, page in enumerate(pdf_pages, start=1):\n",
    "            # enumerate() \"counts\" the pages for us.\n",
    "\n",
    "            # Create a file name to store the image\n",
    "            filename = f\"{tempdir}\\page_{page_enumeration:03}.jpg\"\n",
    "            \n",
    "            page.save(filename, \"JPEG\")\n",
    "            image_file_list.append(filename)\n",
    "\n",
    "        \"\"\"\n",
    "        Part #2 - Recognizing text from the images using OCR\n",
    "        \"\"\"\n",
    "        # print('Converting ' + pdf_path)\n",
    "        with open(text_file_path, \"a\") as output_file:\n",
    "            for image_file in image_file_list:\n",
    "                print(image_file_list.index(image_file), len(image_file_list))\n",
    "                text = str(((pytesseract.image_to_string(Image.open(image_file)))))\n",
    "                text = text.replace(\"-\\n\", \"\")\n",
    "\n",
    "                # Finally, write the processed text to the file.\n",
    "                output_file.write(text)\n"
   ]
  },
  {
   "cell_type": "code",
   "execution_count": null,
   "metadata": {},
   "outputs": [],
   "source": [
    "image_files = [x for x in os.listdir(r'C:\\Users\\Tahsin Sayed\\Desktop\\Image_to_text\\Platform B\\All Files') if '.jpg' in x]\n",
    "for x in image_files:\n",
    "    try:\n",
    "        image_file_path = 'C:\\\\Users\\\\Tahsin Sayed\\\\Desktop\\\\Image_to_text\\\\Platform B\\\\All Files\\\\' + x\n",
    "        if 'document_1' in x:        \n",
    "            text_file_path = 'C:\\\\Users\\\\Tahsin Sayed\\\\Desktop\\\\Image_to_text\\\\Platform B\\\\All Files\\\\Form C\\\\' + x.split('.jpg')[0] + '.txt'\n",
    "            if os.path.exists(text_file_path):\n",
    "                continue\n",
    "            img_to_text(image_file_path, text_file_path)\n",
    "        elif 'document_2' in x: \n",
    "            text_file_path = 'C:\\\\Users\\\\Tahsin Sayed\\\\Desktop\\\\Image_to_text\\\\Platform B\\\\All Files\\\\Pitch\\\\' + x.split('.jpg')[0] + '.txt'\n",
    "            if os.path.exists(text_file_path):\n",
    "                continue\n",
    "            img_to_text(image_file_path, text_file_path)\n",
    "        print(image_files.index(x), len(image_files))\n",
    "    except Exception as e:\n",
    "        print(e)"
   ]
  },
  {
   "cell_type": "code",
   "execution_count": null,
   "metadata": {},
   "outputs": [],
   "source": [
    "pdf_files = [x for x in os.listdir(r'C:\\Users\\Tahsin Sayed\\Desktop\\Image_to_text\\Platform B\\All Files') if '.pdf' in x]\n",
    "for x in pdf_files:\n",
    "    print(pdf_files.index(x), len(pdf_files))\n",
    "    try:\n",
    "        image_file_path = 'C:\\\\Users\\\\Tahsin Sayed\\\\Desktop\\\\Image_to_text\\\\Platform B\\\\All Files\\\\' + x\n",
    "        if 'document_1' in x:        \n",
    "            text_file_path = 'C:\\\\Users\\\\Tahsin Sayed\\\\Desktop\\\\Image_to_text\\\\Platform B\\\\All Files\\\\Form C\\\\' + x.split('.pdf')[0] + '.txt'\n",
    "            if os.path.exists(text_file_path):\n",
    "                continue\n",
    "            pdf_to_txt(image_file_path, text_file_path)\n",
    "        elif 'document_2' in x: \n",
    "            text_file_path = 'C:\\\\Users\\\\Tahsin Sayed\\\\Desktop\\\\Image_to_text\\\\Platform B\\\\All Files\\\\Pitch\\\\' + x.split('.pdf')[0] + '.txt'\n",
    "            if os.path.exists(text_file_path):\n",
    "                continue\n",
    "            pdf_to_txt(image_file_path, text_file_path)\n",
    "        \n",
    "    except Exception as e:\n",
    "        print(e)"
   ]
  },
  {
   "cell_type": "code",
   "execution_count": null,
   "metadata": {},
   "outputs": [],
   "source": [
    "pdf_to_txt(r'All Files\\AtYourGate, Inc.2020_document_1_0.pdf', r'C:\\Users\\Tahsin Sayed\\Desktop\\Image_to_text\\Platform B\\All Files\\Form C\\AtYourGate, Inc.2020_document_1_0.txt')"
   ]
  },
  {
   "cell_type": "code",
   "execution_count": null,
   "metadata": {},
   "outputs": [],
   "source": []
  },
  {
   "cell_type": "code",
   "execution_count": null,
   "metadata": {},
   "outputs": [],
   "source": [
    "image_path = r'C:\\Users\\Tahsin Sayed\\Desktop\\Image_to_text\\Platform B\\All Files\\Active Faith Inc.2019_document_2_0_t.jpg'\n",
    "image_path = r'C:\\Users\\Tahsin Sayed\\Desktop\\Image_to_text\\Platform B\\All Files\\AGGRESSIVELY ORGANIC, INC2019_document_2_0.jpg'\n",
    "text_file = r'C:\\Users\\Tahsin Sayed\\Desktop\\new1.txt'\n",
    "text = str(((pytesseract.image_to_string(Image.open(image_path)))))\n",
    "with open(text_file, 'w') as file:\n",
    "    file.write(text)\n",
    "    print('Done')"
   ]
  },
  {
   "attachments": {},
   "cell_type": "markdown",
   "metadata": {},
   "source": [
    "Conversion of Formatted Pitch images into text"
   ]
  },
  {
   "cell_type": "code",
   "execution_count": null,
   "metadata": {},
   "outputs": [],
   "source": [
    "image_files = [x for x in os.listdir(r'C:\\Users\\Tahsin Sayed\\Desktop\\Image_to_text\\Platform B\\All Files\\Formatted Pitch') if '.jpg' in x]\n",
    "for x in image_files:\n",
    "    try:\n",
    "        image_file_path = 'C:\\\\Users\\\\Tahsin Sayed\\\\Desktop\\\\Image_to_text\\\\Platform B\\\\All Files\\\\Formatted Pitch\\\\' + x\n",
    "\n",
    "        '''\n",
    "        if 'document_1' in x:        \n",
    "            text_file_path = 'C:\\\\Users\\\\Tahsin Sayed\\\\Desktop\\\\Image_to_text\\\\Platform B\\\\All Files\\\\Form C\\\\' + x.split('.jpg')[0] + '.txt'\n",
    "            if os.path.exists(text_file_path):\n",
    "                continue\n",
    "            img_to_text(image_file_path, text_file_path)\n",
    "        \n",
    "        '''\n",
    "\n",
    "        if 'document_2' in x: \n",
    "            text_file_path = 'C:\\\\Users\\\\Tahsin Sayed\\\\Desktop\\\\Image_to_text\\\\Platform B\\\\All Files\\\\Pitch\\\\' + x.split('.jpg')[0] + '.txt'\n",
    "            if os.path.exists(text_file_path):\n",
    "                # print(x ,' esixts.')\n",
    "                continue\n",
    "            img_to_text(image_file_path, text_file_path)\n",
    "            print(x , ' is done.')\n",
    "    except Exception as e:\n",
    "        print(x)\n",
    "        print(e)"
   ]
  },
  {
   "cell_type": "code",
   "execution_count": null,
   "metadata": {},
   "outputs": [],
   "source": [
    "image_file_path"
   ]
  },
  {
   "cell_type": "code",
   "execution_count": null,
   "metadata": {},
   "outputs": [],
   "source": [
    "Image.open(image_path).show()"
   ]
  },
  {
   "cell_type": "code",
   "execution_count": null,
   "metadata": {},
   "outputs": [],
   "source": []
  },
  {
   "cell_type": "markdown",
   "metadata": {},
   "source": []
  }
 ],
 "metadata": {
  "kernelspec": {
   "display_name": "Python 3.9.0 64-bit",
   "language": "python",
   "name": "python3"
  },
  "language_info": {
   "codemirror_mode": {
    "name": "ipython",
    "version": 3
   },
   "file_extension": ".py",
   "mimetype": "text/x-python",
   "name": "python",
   "nbconvert_exporter": "python",
   "pygments_lexer": "ipython3",
   "version": "3.9.0"
  },
  "orig_nbformat": 4,
  "vscode": {
   "interpreter": {
    "hash": "8bc0295d3e35c12602cb77450337f13d6dc78e35e6180f390052e59462a633dc"
   }
  }
 },
 "nbformat": 4,
 "nbformat_minor": 2
}
