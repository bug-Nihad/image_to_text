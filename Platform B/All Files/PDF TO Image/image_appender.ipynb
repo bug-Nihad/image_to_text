{
 "cells": [
  {
   "cell_type": "code",
   "execution_count": 1,
   "metadata": {},
   "outputs": [],
   "source": [
    "from PIL import Image\n",
    "import numpy as np\n"
   ]
  },
  {
   "cell_type": "code",
   "execution_count": 2,
   "metadata": {},
   "outputs": [],
   "source": [
    "def append_images(images):\n",
    "    imgs    = [ Image.open(i) for i in images ]\n",
    "    # pick the image which is the smallest, and resize the others to match it (can be arbitrary image shape here)\n",
    "    min_shape = sorted( [(np.sum(i.size), i.size ) for i in imgs])[0][1]\n",
    "    imgs_comb = np.vstack([i.resize(min_shape) for i in imgs])\n",
    "    imgs_comb = Image.fromarray( imgs_comb)\n",
    "    return( imgs_comb )"
   ]
  },
  {
   "cell_type": "code",
   "execution_count": 3,
   "metadata": {},
   "outputs": [],
   "source": [
    "images = [each for each in os.listdir('Files') if '.jpg' in each]\n",
    "# combo_1 = append_images(images)\n",
    "# combo_1.save(images[0].rsplit('_', 1)[0] + '.jpg')\n",
    "# for each in images:\n",
    "#     os.remove(each)"
   ]
  },
  {
   "cell_type": "code",
   "execution_count": 4,
   "metadata": {},
   "outputs": [
    {
     "data": {
      "text/plain": [
       "['Heroic Enterprises, Public Benefit Corporation2020_document_2',\n",
       " 'Shark Wheel, Inc.2020_document_2',\n",
       " 'SunState Laboratories, Inc.2020_document_2',\n",
       " 'Viroment Equity, LLC2020_document_2',\n",
       " 'Vugo, Inc2020_document_2']"
      ]
     },
     "execution_count": 4,
     "metadata": {},
     "output_type": "execute_result"
    }
   ],
   "source": [
    "images\n",
    "unique_image = []\n",
    "for x in images:\n",
    "    temp_name = x.split('_p2i')[0]\n",
    "    if temp_name not in unique_image:\n",
    "        unique_image.append(temp_name)\n",
    "unique_image"
   ]
  },
  {
   "cell_type": "code",
   "execution_count": 5,
   "metadata": {},
   "outputs": [],
   "source": [
    "for each_image in unique_image:\n",
    "    image_to_combine = ['Files\\\\' + x for x in images if each_image in x]\n",
    "    try:\n",
    "        combined_image = append_images(image_to_combine)\n",
    "        combined_image.save(each_image+'.jpg')\n",
    "    except Exception as e:\n",
    "        print(e)\n",
    "        pass"
   ]
  },
  {
   "cell_type": "code",
   "execution_count": null,
   "metadata": {},
   "outputs": [],
   "source": [
    "image_to_combine"
   ]
  }
 ],
 "metadata": {
  "kernelspec": {
   "display_name": "Python 3",
   "language": "python",
   "name": "python3"
  },
  "language_info": {
   "codemirror_mode": {
    "name": "ipython",
    "version": 3
   },
   "file_extension": ".py",
   "mimetype": "text/x-python",
   "name": "python",
   "nbconvert_exporter": "python",
   "pygments_lexer": "ipython3",
   "version": "3.9.0"
  },
  "orig_nbformat": 4,
  "vscode": {
   "interpreter": {
    "hash": "8bc0295d3e35c12602cb77450337f13d6dc78e35e6180f390052e59462a633dc"
   }
  }
 },
 "nbformat": 4,
 "nbformat_minor": 2
}
