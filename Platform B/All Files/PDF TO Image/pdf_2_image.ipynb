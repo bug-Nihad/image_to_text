{
 "cells": [
  {
   "cell_type": "code",
   "execution_count": null,
   "metadata": {},
   "outputs": [],
   "source": [
    "import os\n",
    "import platform\n",
    "from tempfile import TemporaryDirectory\n",
    "from pathlib import Path\n",
    "import pytesseract\n",
    "from pdf2image import convert_from_path\n",
    "from PIL import Image"
   ]
  },
  {
   "cell_type": "code",
   "execution_count": null,
   "metadata": {},
   "outputs": [],
   "source": [
    "pytesseract.pytesseract.tesseract_cmd = (r\"C:\\Program Files\\Tesseract-OCR\\tesseract.exe\")\n",
    "# Windows also needs poppler_exe\n",
    "path_to_poppler_exe = Path(r\"C:\\poppler-0.68.0\\bin\")"
   ]
  },
  {
   "cell_type": "code",
   "execution_count": null,
   "metadata": {},
   "outputs": [],
   "source": [
    "def ocr(pdf_path):\n",
    "    pytesseract.pytesseract.tesseract_cmd = (r\"C:\\Program Files\\Tesseract-OCR\\tesseract.exe\")\n",
    "    PDF_file = pdf_path\n",
    "    # Windows also needs poppler_exe\n",
    "    path_to_poppler_exe = Path(r\"C:\\poppler-0.68.0\\bin\")\n",
    "\n",
    "    # Store all the pages of the PDF in a variable\n",
    "    image_file_list = []\n",
    "\n",
    "    \n",
    "    if platform.system() == \"Windows\":\n",
    "        pdf_pages = convert_from_path(\n",
    "            PDF_file, 500, poppler_path=path_to_poppler_exe\n",
    "        )\n",
    "    else:\n",
    "        pdf_pages = convert_from_path(PDF_file, 500)\n",
    "    # Read in the PDF file at 500 DPI\n",
    "\n",
    "    # Iterate through all the pages stored above\n",
    "    for page_enumeration, page in enumerate(pdf_pages, start=1):\n",
    "        # enumerate() \"counts\" the pages for us.\n",
    "\n",
    "        # Create a file name to store the image\n",
    "        filename = PDF_file.rsplit('_', 1)[0] + '_p2i_' + str(page_enumeration) + '.jpg'\n",
    "        page.save(filename, \"JPEG\")\n",
    "        image_file_list.append(filename)    "
   ]
  },
  {
   "cell_type": "code",
   "execution_count": null,
   "metadata": {},
   "outputs": [],
   "source": [
    "path = r'C:\\Users\\Tahsin Sayed\\Desktop\\Image_to_text\\Platform B\\All Files\\PDF TO Image\\FIles\\AMMOSQUARED, INC.2019_document_2_0.pdf'\n",
    "ocr(path)"
   ]
  },
  {
   "cell_type": "code",
   "execution_count": 20,
   "metadata": {},
   "outputs": [
    {
     "name": "stdout",
     "output_type": "stream",
     "text": [
      "22\n",
      "23\n",
      "24\n"
     ]
    }
   ],
   "source": [
    "pdf_files = ['Files\\\\' + x for x in os.listdir('Files') if '.pdf' in x]\n",
    "for each in pdf_files:\n",
    "    ocr(each)\n",
    "    print(pdf_files.index(each))"
   ]
  },
  {
   "cell_type": "code",
   "execution_count": null,
   "metadata": {},
   "outputs": [],
   "source": [
    "ocr(pdf_files[0])"
   ]
  }
 ],
 "metadata": {
  "kernelspec": {
   "display_name": "Python 3",
   "language": "python",
   "name": "python3"
  },
  "language_info": {
   "codemirror_mode": {
    "name": "ipython",
    "version": 3
   },
   "file_extension": ".py",
   "mimetype": "text/x-python",
   "name": "python",
   "nbconvert_exporter": "python",
   "pygments_lexer": "ipython3",
   "version": "3.9.0"
  },
  "orig_nbformat": 4,
  "vscode": {
   "interpreter": {
    "hash": "8bc0295d3e35c12602cb77450337f13d6dc78e35e6180f390052e59462a633dc"
   }
  }
 },
 "nbformat": 4,
 "nbformat_minor": 2
}
