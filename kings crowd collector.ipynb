{
 "cells": [
  {
   "cell_type": "code",
   "execution_count": null,
   "metadata": {},
   "outputs": [],
   "source": [
    "from selenium import webdriver\n",
    "from webdriver_auto_update import check_driver\n",
    "check_driver(r'C:\\Users\\Tahsin Sayed\\Downloads\\chromedriver_win32')\n",
    "import pandas as pd  \n",
    "pd.options.mode.chained_assignment = None\n",
    "import string\n",
    "import time"
   ]
  },
  {
   "cell_type": "code",
   "execution_count": null,
   "metadata": {},
   "outputs": [],
   "source": [
    "folder_path = r'C:\\Users\\Tahsin Sayed\\Desktop\\Image_to_text\\\\'\n",
    "file_path = r'C:\\Users\\Tahsin Sayed\\Desktop\\Image_to_text\\data file_xlsx'\n",
    "file_path = r'C:\\Users\\Tahsin Sayed\\Desktop\\Image_to_text\\Platform B\\company_list.csv'\n",
    "# df = pd.read_excel(folder_path+ 'data file_.xlsx')\n",
    "df = pd.read_csv(file_path)\n",
    "df.columns"
   ]
  },
  {
   "cell_type": "code",
   "execution_count": null,
   "metadata": {},
   "outputs": [],
   "source": [
    "for i in df.index:\n",
    "    x = df['NAMEOFISSUER'][i]\n",
    "    x = ''.join('' if c in string.punctuation else c for c in x)\n",
    "    df['Company_name'][i] = x.rsplit(' ', 1)[0]"
   ]
  },
  {
   "cell_type": "code",
   "execution_count": null,
   "metadata": {},
   "outputs": [],
   "source": [
    "options = webdriver.ChromeOptions()\n",
    "options.add_argument(\"user-data-dir=C:\\\\Users\\\\Tahsin Sayed\\\\AppData\\\\Local\\\\Google\\\\Chrome\\\\User Data\")\n",
    "driver = webdriver.Chrome(chrome_options=options)"
   ]
  },
  {
   "cell_type": "code",
   "execution_count": null,
   "metadata": {},
   "outputs": [],
   "source": [
    "driver.get('https://kingscrowd.com/companies/search/')"
   ]
  },
  {
   "cell_type": "code",
   "execution_count": null,
   "metadata": {},
   "outputs": [],
   "source": [
    "df"
   ]
  },
  {
   "cell_type": "code",
   "execution_count": 15,
   "metadata": {},
   "outputs": [
    {
     "name": "stdout",
     "output_type": "stream",
     "text": [
      "0\n",
      "0\n",
      "1\n",
      "1\n",
      "0\n",
      "0\n",
      "0\n",
      "0\n",
      "0\n",
      "0\n",
      "0\n",
      "0\n",
      "1\n",
      "1\n",
      "1\n",
      "2\n",
      "0\n",
      "1\n",
      "1\n",
      "1\n",
      "0\n",
      "1\n",
      "1\n"
     ]
    }
   ],
   "source": [
    "input_placeholder = driver.find_element_by_id('ratings_searchbox')\n",
    "for i in df.index:\n",
    "    #Skip the code if progress is completed.\n",
    "    if df['Progress'][i] == 'Done':\n",
    "        continue\n",
    "\n",
    "\n",
    "    input_placeholder.clear()\n",
    "    input_placeholder.send_keys(df['Company_name'][i])\n",
    "    time.sleep(2)\n",
    "    table = pd.read_html(driver.page_source)[0]\n",
    "    # if i>=20:\n",
    "    #     break\n",
    "    \n",
    "    if table['company'][0] == 'No matching records found':\n",
    "        # There is no data for this company.\n",
    "        df['Progress'][i] = 'Data Not Found'\n",
    "        continue\n",
    "    \n",
    "    #Check start date. \n",
    "    table['start date'] = pd.to_datetime(table['start date'])\n",
    "    table['close date'] = pd.to_datetime(table['close date'])\n",
    "    instances = table[table['start date'].dt.year == df['Year'][i]].shape[0]\n",
    "\n",
    "    #If Multiple Instance, need to check that manually. \n",
    "    if instances > 1:\n",
    "        df['Progress'][i] = 'Multiple Data Found.'\n",
    "        continue\n",
    "    #If no data, log profress as 'No Data in this year'. \n",
    "    if instances == 0:\n",
    "        df['Progress'][i] = 'No Data in This Year.'\n",
    "        continue\n",
    "\n",
    "    if instances == 1:\n",
    "        data_index = table[table['start date'].dt.year == df['Year'][i]].index[0]\n",
    "        print(data_index)\n",
    "\n",
    "\n",
    "        # Accumalute Data into main Data frame\n",
    "        df[\"Status\"][i] = table['status'][data_index]\n",
    "        df[\"Platform\"][i] = table['platform'][data_index]\n",
    "        df[\"Valuation\"][i] = table['Valuation / Cap'][data_index]\n",
    "        df[\"Security\"][i] = table['security type'][data_index]\n",
    "        df[\"Daily Raise\"][i] = table['average daily raise'][data_index]\n",
    "        df[\"Amount Raised\"][i] = table['amount raised'][data_index]\n",
    "        df[\"Start Date\"][i] = table['start date'][data_index]\n",
    "        df[\"Close Date\"][i] = table['close date'][data_index]\n",
    "        df[\"Investor\"][i] = table['investors'][data_index]\n",
    "        \n",
    "\n",
    "        #Extract the link_to_page. \n",
    "        all_tables = driver.find_elements_by_xpath('//table')\n",
    "        link_to_page = all_tables[0].find_elements_by_xpath('//a[@class=\"company-page-link\"]')[data_index].get_attribute('href')\n",
    "        driver.execute_script('window.open(\"http://bings.com\",\"_blank\");')\n",
    "        driver.switch_to.window(window_name=driver.window_handles[-1])\n",
    "        driver.get(link_to_page)\n",
    "        divs = [x.text for x in driver.find_elements_by_xpath('//div[@class=\"cell small-4\"]')]\n",
    "        for each in divs:\n",
    "            if 'Min. Goal' in each:\n",
    "                df['Min Goal'][i] = each.split('\\n')[-1]\n",
    "                # print(each.split('\\n')[-1])\n",
    "            elif 'Max. Goal' in each:\n",
    "                df['Max Goal'][i] = each.split('\\n')[-1]\n",
    "                # print(each.split('\\n')[-1])\n",
    "            elif 'Price Per Share' in each:\n",
    "                df['Price Per Share'][i] = each.split('\\n')[-1]\n",
    "                # print(each.split('\\n')[-1])\n",
    "            elif 'Min. Investment' in each:\n",
    "                df['Min Investment'][i] = each.split('\\n')[-1]\n",
    "                # print(each.split('\\n')[-1])\n",
    "            \n",
    "        driver.find_element_by_id('company_profile-label').click()\n",
    "        industry = [each.text.split('\\n')[-1] for each in driver.find_elements_by_xpath('//div[@class=\"cell small-4\"]') if 'Industry' in each.text]\n",
    "        df['Industry'][i] = industry[0]\n",
    "\n",
    "\n",
    "        driver.close()\n",
    "        driver.switch_to.window(window_name=driver.window_handles[0])\n",
    "        df['Progress'][i] = 'Done'\n",
    "        \n",
    "        '''\n",
    "        Here remains the code. \n",
    "\n",
    "        '''\n",
    "        pass"
   ]
  },
  {
   "cell_type": "code",
   "execution_count": 17,
   "metadata": {},
   "outputs": [],
   "source": [
    "# df.to_csv('data.csv')\n",
    "# df.to_excel('data.xlsx')\n",
    "df.to_csv(r'C:\\Users\\Tahsin Sayed\\OneDrive - BUET\\Output doc file\\Platform B\\kingscrowd_data_B.csv')\n",
    "df.to_excel(r'C:\\Users\\Tahsin Sayed\\OneDrive - BUET\\Output doc file\\Platform B\\kingscrowd_data_B.xlsx')"
   ]
  },
  {
   "cell_type": "code",
   "execution_count": null,
   "metadata": {},
   "outputs": [],
   "source": [
    "df.head()"
   ]
  }
 ],
 "metadata": {
  "kernelspec": {
   "display_name": "Python 3.9.0 64-bit",
   "language": "python",
   "name": "python3"
  },
  "language_info": {
   "codemirror_mode": {
    "name": "ipython",
    "version": 3
   },
   "file_extension": ".py",
   "mimetype": "text/x-python",
   "name": "python",
   "nbconvert_exporter": "python",
   "pygments_lexer": "ipython3",
   "version": "3.9.0 (tags/v3.9.0:9cf6752, Oct  5 2020, 15:34:40) [MSC v.1927 64 bit (AMD64)]"
  },
  "orig_nbformat": 4,
  "vscode": {
   "interpreter": {
    "hash": "8bc0295d3e35c12602cb77450337f13d6dc78e35e6180f390052e59462a633dc"
   }
  }
 },
 "nbformat": 4,
 "nbformat_minor": 2
}
