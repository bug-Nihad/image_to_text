{
 "cells": [
  {
   "cell_type": "code",
   "execution_count": null,
   "metadata": {},
   "outputs": [],
   "source": [
    "from selenium import webdriver\n",
    "from webdriver_auto_update import check_driver\n",
    "check_driver(r'C:\\Users\\Tahsin Sayed\\Downloads\\chromedriver_win32')\n",
    "import pandas as pd  \n",
    "pd.options.mode.chained_assignment = None\n",
    "import string\n",
    "import time"
   ]
  },
  {
   "cell_type": "code",
   "execution_count": null,
   "metadata": {},
   "outputs": [],
   "source": [
    "folder_path = r'C:\\Users\\Tahsin Sayed\\Desktop\\Image_to_text\\\\'\n",
    "df = pd.read_csv(folder_path+ 'company_list.csv')\n",
    "df.columns"
   ]
  },
  {
   "cell_type": "code",
   "execution_count": null,
   "metadata": {},
   "outputs": [],
   "source": [
    "for i in df.index:\n",
    "    x = df['NAMEOFISSUER'][i]\n",
    "    x = ''.join('' if c in string.punctuation else c for c in x)\n",
    "    df['Company_name'][i] = x.rsplit(' ', 1)[0]"
   ]
  },
  {
   "cell_type": "code",
   "execution_count": null,
   "metadata": {},
   "outputs": [],
   "source": [
    "options = webdriver.ChromeOptions()\n",
    "options.add_argument(\"user-data-dir=C:\\\\Users\\\\Tahsin Sayed\\\\AppData\\\\Local\\\\Google\\\\Chrome\\\\User Data\")\n",
    "driver = webdriver.Chrome(chrome_options=options)"
   ]
  },
  {
   "cell_type": "code",
   "execution_count": null,
   "metadata": {},
   "outputs": [],
   "source": [
    "driver.get('https://kingscrowd.com/companies/search/')"
   ]
  },
  {
   "cell_type": "code",
   "execution_count": null,
   "metadata": {},
   "outputs": [],
   "source": [
    "input_placeholder = driver.find_element_by_id('ratings_searchbox')\n",
    "for i in df.index:\n",
    "    #Skip the code if progress is completed.\n",
    "    if df['Progress'][i] == 'Done':\n",
    "        continue\n",
    "\n",
    "\n",
    "    input_placeholder.clear()\n",
    "    input_placeholder.send_keys(df['Company_name'][i])\n",
    "    time.sleep(2)\n",
    "    table = pd.read_html(driver.page_source)[0]\n",
    "    if i>=20:\n",
    "        break\n",
    "    \n",
    "    if table['company'][0] == 'No matching records found':\n",
    "        # There is no data for this company.\n",
    "        df['Progress'][i] = 'Data Not Found'\n",
    "        continue\n",
    "    \n",
    "    #Check start date. \n",
    "    table['start date'] = pd.to_datetime(table['start date'])\n",
    "    table['close date'] = pd.to_datetime(table['close date'])\n",
    "    instances = table[table['start date'].dt.year == df['Year'][i]].shape[0]\n",
    "\n",
    "    #If Multiple Instance, need to check that manually. \n",
    "    if instances > 1:\n",
    "        df['Progress'][i] = 'Multiple Data Found.'\n",
    "        continue\n",
    "    #If no data, log profress as 'No Data in this year'. \n",
    "    if instances == 0:\n",
    "        df['Progress'][i] = 'No Data in This Year.'\n",
    "        continue\n",
    "\n",
    "    if instances == 1:\n",
    "        data_index = table[table['start date'].dt.year == df['Year'][i]].index[0]\n",
    "        print(data_index)\n",
    "\n",
    "\n",
    "        # Accumalute Data into main Data frame\n",
    "        df[\"Status\"][i] = table['status'][data_index]\n",
    "        df[\"Platform\"][i] = table['platform'][data_index]\n",
    "        df[\"Valuation\"][i] = table['Valuation / Cap'][data_index]\n",
    "        df[\"Security\"][i] = table['security type'][data_index]\n",
    "        df[\"Daily Raise\"][i] = table['average daily raise'][data_index]\n",
    "        df[\"Amount Raised\"][i] = table['amount raised'][data_index]\n",
    "        df[\"Start Date\"][i] = table['start date'][data_index]\n",
    "        df[\"Close Date\"][i] = table['close date'][data_index]\n",
    "        df[\"Investor\"][i] = table['investors'][data_index]\n",
    "        \n",
    "\n",
    "        #Extract the link_to_page. \n",
    "        all_tables = driver.find_elements_by_xpath('//table')\n",
    "        link_to_page = all_tables[0].find_elements_by_xpath('//a[@class=\"company-page-link\"]')[data_index].get_attribute('href')\n",
    "        driver.execute_script('window.open(\"http://bings.com\",\"_blank\");')\n",
    "        driver.switch_to.window(window_name=driver.window_handles[-1])\n",
    "        driver.get(link_to_page)\n",
    "        divs = [x.text for x in driver.find_elements_by_xpath('//div[@class=\"cell small-4\"]')]\n",
    "        for each in divs:\n",
    "            if 'Min. Goal' in each:\n",
    "                df['Min Goal'][i] = each.split('\\n')[-1]\n",
    "                # print(each.split('\\n')[-1])\n",
    "            elif 'Max. Goal' in each:\n",
    "                df['Max Goal'][i] = each.split('\\n')[-1]\n",
    "                # print(each.split('\\n')[-1])\n",
    "            elif 'Price Per Share' in each:\n",
    "                df['Price Per Share'][i] = each.split('\\n')[-1]\n",
    "                # print(each.split('\\n')[-1])\n",
    "            elif 'Min. Investment' in each:\n",
    "                df['Min Investment'][i] = each.split('\\n')[-1]\n",
    "                # print(each.split('\\n')[-1])\n",
    "            \n",
    "        driver.find_element_by_id('company_profile-label').click()\n",
    "        industry = [each.text.split('\\n')[-1] for each in driver.find_elements_by_xpath('//div[@class=\"cell small-4\"]') if 'Industry' in each.text]\n",
    "        df['Industry'][i] = industry[0]\n",
    "\n",
    "\n",
    "        driver.close()\n",
    "        driver.switch_to.window(window_name=driver.window_handles[0])\n",
    "        df['Progress'][i] = 'Done'\n",
    "        \n",
    "        '''\n",
    "        Here remains the code. \n",
    "\n",
    "        '''\n",
    "        pass"
   ]
  },
  {
   "cell_type": "code",
   "execution_count": null,
   "metadata": {},
   "outputs": [],
   "source": [
    "driver.execute_script('window.open(\"http://bings.com\",\"_blank\");')\n",
    "driver.switch_to.window(window_name=driver.window_handles[-1])\n",
    "driver.get(link_to_page)\n",
    "# driver.get('google.com')"
   ]
  },
  {
   "cell_type": "code",
   "execution_count": null,
   "metadata": {},
   "outputs": [],
   "source": [
    "driver.find_element_by_id('company_profile-label').click()"
   ]
  },
  {
   "cell_type": "code",
   "execution_count": null,
   "metadata": {},
   "outputs": [],
   "source": [
    "divs = [each.text.split('\\n')[-1] for each in driver.find_elements_by_xpath('//div[@class=\"cell small-4\"]') if 'Industry' in each.text]\n",
    "# for each in divs:\n",
    "#     if 'Industry' in each.text:\n",
    "#         # print(each)\n",
    "#         print(each.text.split('\\n')[-1])\n",
    "print(divs[0])"
   ]
  },
  {
   "cell_type": "code",
   "execution_count": null,
   "metadata": {},
   "outputs": [],
   "source": []
  },
  {
   "cell_type": "code",
   "execution_count": null,
   "metadata": {},
   "outputs": [],
   "source": [
    "driver.close()\n",
    "driver.switch_to.window(window_name=driver.window_handles[0])\n",
    "driver.get('https://www.google.com')"
   ]
  },
  {
   "cell_type": "code",
   "execution_count": null,
   "metadata": {},
   "outputs": [],
   "source": [
    "divs = driver.find_elements_by_xpath('//div')\n",
    "divs = [x for x in divs if 'Min. Goal' in x.text]\n",
    "print(divs[0].text)\n"
   ]
  },
  {
   "cell_type": "code",
   "execution_count": null,
   "metadata": {},
   "outputs": [],
   "source": [
    "divs = [x.text for x in driver.find_elements_by_xpath('//div[@class=\"cell small-4\"]')]\n",
    "for each in divs:\n",
    "    if 'Min. Goal' in each:\n",
    "        print(each.split('\\n')[-1])\n",
    "    elif 'Max. Goal' in each:\n",
    "        print(each.split('\\n')[-1])\n",
    "    elif 'Price Per Share' in each:\n",
    "        print(each.split('\\n')[-1])\n",
    "    elif 'Min. Investment' in each:\n",
    "        print(each.split('\\n')[-1])"
   ]
  },
  {
   "cell_type": "code",
   "execution_count": null,
   "metadata": {},
   "outputs": [],
   "source": [
    "df['Progress'][1]"
   ]
  },
  {
   "cell_type": "code",
   "execution_count": null,
   "metadata": {},
   "outputs": [],
   "source": [
    "type(df['Year'][i])"
   ]
  },
  {
   "cell_type": "code",
   "execution_count": null,
   "metadata": {},
   "outputs": [],
   "source": [
    "all_tables = driver.find_elements_by_xpath('//table')\n",
    "all_links = all_tables[0].find_elements_by_xpath('//a[@class=\"company-page-link\"]')\n",
    "for each in all_links:\n",
    "    print(each.get_attribute('href'), each.text)"
   ]
  },
  {
   "cell_type": "code",
   "execution_count": null,
   "metadata": {},
   "outputs": [],
   "source": [
    "all_tables[0].text"
   ]
  },
  {
   "cell_type": "code",
   "execution_count": null,
   "metadata": {},
   "outputs": [],
   "source": [
    "table.columns"
   ]
  },
  {
   "cell_type": "code",
   "execution_count": null,
   "metadata": {},
   "outputs": [],
   "source": [
    "table['start date'] = pd.to_datetime(table['start date'])\n",
    "table[table['start date'].dt.year == 2018].index[0]\n",
    "# table['start date']"
   ]
  },
  {
   "cell_type": "code",
   "execution_count": null,
   "metadata": {},
   "outputs": [],
   "source": [
    "table['start date'].dr.year"
   ]
  },
  {
   "cell_type": "code",
   "execution_count": null,
   "metadata": {},
   "outputs": [],
   "source": [
    "table[table['start date'].dt.year == 2018]"
   ]
  },
  {
   "cell_type": "code",
   "execution_count": null,
   "metadata": {},
   "outputs": [],
   "source": [
    "\n",
    "table['start date'] = pd.to_datetime(table['start date'])\n",
    "table['start date']"
   ]
  },
  {
   "cell_type": "code",
   "execution_count": null,
   "metadata": {},
   "outputs": [],
   "source": [
    "table[table['start date'].dt.year == 2018].shape[0]"
   ]
  },
  {
   "cell_type": "code",
   "execution_count": null,
   "metadata": {},
   "outputs": [],
   "source": [
    "df.head(10)"
   ]
  },
  {
   "cell_type": "code",
   "execution_count": null,
   "metadata": {},
   "outputs": [],
   "source": [
    "table = pd.read_html(driver.page_source)[0]"
   ]
  },
  {
   "cell_type": "code",
   "execution_count": null,
   "metadata": {},
   "outputs": [],
   "source": [
    "table"
   ]
  },
  {
   "cell_type": "code",
   "execution_count": null,
   "metadata": {},
   "outputs": [],
   "source": [
    "table['start date'] = pd.to_datetime(table['start date'])\n",
    "table['close date'] = pd.to_datetime(table['close date'])\n",
    "table[table['start date'].dt.year == 2030]"
   ]
  },
  {
   "cell_type": "code",
   "execution_count": null,
   "metadata": {},
   "outputs": [],
   "source": [
    "table['start date'].dt.year"
   ]
  },
  {
   "cell_type": "code",
   "execution_count": null,
   "metadata": {},
   "outputs": [],
   "source": [
    "table['start date'].rsplit('/', 1)[-1]\n"
   ]
  },
  {
   "cell_type": "code",
   "execution_count": null,
   "metadata": {},
   "outputs": [],
   "source": [
    "driver.find_element_by_id('ratings_searchbox').clear()"
   ]
  },
  {
   "cell_type": "code",
   "execution_count": null,
   "metadata": {},
   "outputs": [],
   "source": [
    "driver.find_element_by_id('ratings_searchbox').send_keys('HEllo')"
   ]
  },
  {
   "cell_type": "code",
   "execution_count": null,
   "metadata": {},
   "outputs": [],
   "source": [
    "inputplaceholder = [x for x in driver.find_elements_by_xpath['//input'] if x.get_attribute('id') == 'ratings_searchbox'][0]\n",
    "inputplaceholder.send_keys('Hello')"
   ]
  }
 ],
 "metadata": {
  "kernelspec": {
   "display_name": "Python 3.9.0 64-bit",
   "language": "python",
   "name": "python3"
  },
  "language_info": {
   "codemirror_mode": {
    "name": "ipython",
    "version": 3
   },
   "file_extension": ".py",
   "mimetype": "text/x-python",
   "name": "python",
   "nbconvert_exporter": "python",
   "pygments_lexer": "ipython3",
   "version": "3.9.0"
  },
  "orig_nbformat": 4,
  "vscode": {
   "interpreter": {
    "hash": "8bc0295d3e35c12602cb77450337f13d6dc78e35e6180f390052e59462a633dc"
   }
  }
 },
 "nbformat": 4,
 "nbformat_minor": 2
}
