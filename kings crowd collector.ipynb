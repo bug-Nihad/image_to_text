{
 "cells": [
  {
   "cell_type": "code",
   "execution_count": null,
   "metadata": {},
   "outputs": [],
   "source": [
    "from selenium import webdriver\n",
    "from webdriver_auto_update import check_driver\n",
    "check_driver(r'C:\\Users\\Tahsin Sayed\\Downloads\\chromedriver_win32')\n",
    "import pandas as pd  \n",
    "pd.options.mode.chained_assignment = None\n",
    "import string\n",
    "import time"
   ]
  },
  {
   "cell_type": "code",
   "execution_count": null,
   "metadata": {},
   "outputs": [],
   "source": [
    "folder_path = r'C:\\Users\\Tahsin Sayed\\Desktop\\Image_to_text\\\\'\n",
    "df = pd.read_csv(folder_path+ 'company_list.csv')\n",
    "df"
   ]
  },
  {
   "cell_type": "code",
   "execution_count": null,
   "metadata": {},
   "outputs": [],
   "source": [
    "for i in df.index:\n",
    "    x = df['NAMEOFISSUER'][i]\n",
    "    x = ''.join('' if c in string.punctuation else c for c in x)\n",
    "    df['Company_name'][i] = x.rsplit(' ', 1)[0]"
   ]
  },
  {
   "cell_type": "code",
   "execution_count": null,
   "metadata": {},
   "outputs": [],
   "source": [
    "options = webdriver.ChromeOptions()\n",
    "options.add_argument(\"user-data-dir=C:\\\\Users\\\\Tahsin Sayed\\\\AppData\\\\Local\\\\Google\\\\Chrome\\\\User Data\")\n",
    "driver = webdriver.Chrome(chrome_options=options)"
   ]
  },
  {
   "cell_type": "code",
   "execution_count": null,
   "metadata": {},
   "outputs": [],
   "source": [
    "driver.get('https://kingscrowd.com/companies/search/')"
   ]
  },
  {
   "cell_type": "code",
   "execution_count": null,
   "metadata": {},
   "outputs": [],
   "source": [
    "input_placeholder = driver.find_element_by_id('ratings_searchbox')\n",
    "for i in df.index:\n",
    "    input_placeholder.clear()\n",
    "    input_placeholder.send_keys(df['Company_name'][i])\n",
    "    time.sleep(2)\n",
    "    table = pd.read_html(driver.page_source)[0]\n",
    "    if i==10:\n",
    "        break\n",
    "    \n",
    "    if table['company'][0] == 'No matching records found':\n",
    "        # There is no data for this company.\n",
    "        df['Progress'][i] = 'Data Not Found'\n",
    "        continue\n",
    "    \n",
    "    #Check start date. \n",
    "    table['start date'] = pd.to_datetime(table['start date'])\n",
    "    table['close date'] = pd.to_datetime(table['close date'])\n",
    "    instances = table[table['start date'].dt.year == 2018].shape[0]\n",
    "\n",
    "    #If Multiple Instance, need to check that manually. \n",
    "    if instances > 1:\n",
    "        df['Progress'][i] = 'Multiple Data Found.'\n",
    "        continue\n",
    "    if instances == 0:\n",
    "        df['Progress'][i] = 'No Data in This Year.'\n",
    "        continue\n",
    "    if instances == 1:\n",
    "        '''\n",
    "        Here remains the code. \n",
    "\n",
    "        '''\n",
    "        pass"
   ]
  },
  {
   "cell_type": "code",
   "execution_count": null,
   "metadata": {},
   "outputs": [],
   "source": [
    "\n",
    "table['start date'] = pd.to_datetime(table['start date'])\n",
    "table['start date']"
   ]
  },
  {
   "cell_type": "code",
   "execution_count": null,
   "metadata": {},
   "outputs": [],
   "source": [
    "table[table['start date'].dt.year == 2018].shape[0]"
   ]
  },
  {
   "cell_type": "code",
   "execution_count": null,
   "metadata": {},
   "outputs": [],
   "source": [
    "df.head(10)"
   ]
  },
  {
   "cell_type": "code",
   "execution_count": null,
   "metadata": {},
   "outputs": [],
   "source": [
    "table = pd.read_html(driver.page_source)[0]"
   ]
  },
  {
   "cell_type": "code",
   "execution_count": null,
   "metadata": {},
   "outputs": [],
   "source": [
    "table"
   ]
  },
  {
   "cell_type": "code",
   "execution_count": null,
   "metadata": {},
   "outputs": [],
   "source": [
    "table['start date'] = pd.to_datetime(table['start date'])\n",
    "table['close date'] = pd.to_datetime(table['close date'])\n",
    "table[table['start date'].dt.year == 2030]"
   ]
  },
  {
   "cell_type": "code",
   "execution_count": null,
   "metadata": {},
   "outputs": [],
   "source": [
    "table['start date'].dt.year"
   ]
  },
  {
   "cell_type": "code",
   "execution_count": null,
   "metadata": {},
   "outputs": [],
   "source": [
    "table['start date'].rsplit('/', 1)[-1]\n"
   ]
  },
  {
   "cell_type": "code",
   "execution_count": null,
   "metadata": {},
   "outputs": [],
   "source": [
    "driver.find_element_by_id('ratings_searchbox').clear()"
   ]
  },
  {
   "cell_type": "code",
   "execution_count": null,
   "metadata": {},
   "outputs": [],
   "source": [
    "driver.find_element_by_id('ratings_searchbox').send_keys('HEllo')"
   ]
  },
  {
   "cell_type": "code",
   "execution_count": null,
   "metadata": {},
   "outputs": [],
   "source": [
    "inputplaceholder = [x for x in driver.find_elements_by_xpath['//input'] if x.get_attribute('id') == 'ratings_searchbox'][0]\n",
    "inputplaceholder.send_keys('Hello')"
   ]
  }
 ],
 "metadata": {
  "kernelspec": {
   "display_name": "Python 3.9.0 64-bit",
   "language": "python",
   "name": "python3"
  },
  "language_info": {
   "codemirror_mode": {
    "name": "ipython",
    "version": 3
   },
   "file_extension": ".py",
   "mimetype": "text/x-python",
   "name": "python",
   "nbconvert_exporter": "python",
   "pygments_lexer": "ipython3",
   "version": "3.9.0"
  },
  "orig_nbformat": 4,
  "vscode": {
   "interpreter": {
    "hash": "8bc0295d3e35c12602cb77450337f13d6dc78e35e6180f390052e59462a633dc"
   }
  }
 },
 "nbformat": 4,
 "nbformat_minor": 2
}
