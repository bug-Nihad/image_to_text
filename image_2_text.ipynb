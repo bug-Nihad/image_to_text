{
 "cells": [
  {
   "cell_type": "code",
   "execution_count": null,
   "metadata": {},
   "outputs": [],
   "source": [
    "import os\n",
    "import platform\n",
    "from tempfile import TemporaryDirectory\n",
    "from pathlib import Path\n",
    "import time\n",
    "import pytesseract\n",
    "from pdf2image import convert_from_path\n",
    "from PIL import Image"
   ]
  },
  {
   "cell_type": "code",
   "execution_count": null,
   "metadata": {},
   "outputs": [],
   "source": [
    "pytesseract.pytesseract.tesseract_cmd = (r\"C:\\Program Files\\Tesseract-OCR\\tesseract.exe\")\n",
    "# PDF_file = pdf_path\n",
    "# Windows also needs poppler_exe\n",
    "path_to_poppler_exe = Path(r\"C:\\poppler-0.68.0\\bin\")"
   ]
  },
  {
   "cell_type": "code",
   "execution_count": null,
   "metadata": {},
   "outputs": [],
   "source": [
    "from PIL import Image\n",
    "image_files = [x for x in os.listdir(r'C:\\Users\\Tahsin Sayed\\Desktop\\Image_to_text\\Incomplete') if '.jpg' in x]\n",
    "for x in image_files:\n",
    "    try:\n",
    "        image_file_path = 'C:\\\\Users\\\\Tahsin Sayed\\\\Desktop\\\\Image_to_text\\\\Incomplete\\\\' + x\n",
    "        text_file_path = 'C:\\\\Users\\\\Tahsin Sayed\\\\Desktop\\\\Image_to_text\\\\Incomplete\\\\' + x.split('.jpg')[0] + '.txt'\n",
    "        to_text(image_file_path, text_file_path)\n",
    "    except Exception as e:\n",
    "        print(e)\n"
   ]
  },
  {
   "cell_type": "code",
   "execution_count": null,
   "metadata": {},
   "outputs": [],
   "source": [
    "def to_text(file_path, text_file):\n",
    "    print(file_path)\n",
    "    text = str(((pytesseract.image_to_string(Image.open(file_path)))))\n",
    "    with open(text_file, 'w') as file:\n",
    "        file.write(text)\n",
    "        print('Done')\n"
   ]
  },
  {
   "cell_type": "code",
   "execution_count": null,
   "metadata": {},
   "outputs": [],
   "source": [
    "r = Image.open(r'C:\\Users\\Tahsin Sayed\\Desktop\\Image_to_text\\Incomplete\\anyone Media Network, Inc2018_0-30.jpg')"
   ]
  }
 ],
 "metadata": {
  "kernelspec": {
   "display_name": "Python 3.9.0 64-bit",
   "language": "python",
   "name": "python3"
  },
  "language_info": {
   "codemirror_mode": {
    "name": "ipython",
    "version": 3
   },
   "file_extension": ".py",
   "mimetype": "text/x-python",
   "name": "python",
   "nbconvert_exporter": "python",
   "pygments_lexer": "ipython3",
   "version": "3.9.0 (tags/v3.9.0:9cf6752, Oct  5 2020, 15:34:40) [MSC v.1927 64 bit (AMD64)]"
  },
  "orig_nbformat": 4,
  "vscode": {
   "interpreter": {
    "hash": "8bc0295d3e35c12602cb77450337f13d6dc78e35e6180f390052e59462a633dc"
   }
  }
 },
 "nbformat": 4,
 "nbformat_minor": 2
}
