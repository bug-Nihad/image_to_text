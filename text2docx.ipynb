{
 "cells": [
  {
   "cell_type": "code",
   "execution_count": 1,
   "metadata": {},
   "outputs": [],
   "source": [
    "from docx import Document"
   ]
  },
  {
   "cell_type": "code",
   "execution_count": 2,
   "metadata": {},
   "outputs": [],
   "source": [
    "def to_docx(file_path_plain_text, file_path_docx):\n",
    "    document = Document()\n",
    "    with open(file_path_plain_text, encoding=\"utf8\", errors=\"ignore\") as f:\n",
    "        for line in f:\n",
    "            document.add_paragraph(line)\n",
    "    document.save(file_path_docx)"
   ]
  },
  {
   "cell_type": "markdown",
   "metadata": {},
   "source": [
    "Code below is to convert whole text into docx file."
   ]
  },
  {
   "cell_type": "code",
   "execution_count": 3,
   "metadata": {},
   "outputs": [],
   "source": [
    "import os\n",
    "text_files = [x for x in os.listdir('Form C\\\\Output Text File') if '.txt' in x]\n",
    "for x in text_files:\n",
    "    text_file_path = 'Form C\\\\Output Text File\\\\' + x\n",
    "    docx_file_path = 'Form C\\\\Output Text File\\\\Output Doc File\\\\' + x.split('.txt')[0] + '.docx'\n",
    "    to_docx(text_file_path, docx_file_path)\n"
   ]
  },
  {
   "cell_type": "markdown",
   "metadata": {},
   "source": [
    "Code below is to convert pitch text only into docx file."
   ]
  },
  {
   "cell_type": "code",
   "execution_count": 21,
   "metadata": {},
   "outputs": [],
   "source": [
    "def extract_pitch(text_file_path, pitch_file):\n",
    "    document = Document()\n",
    "    with open(text_file_path, 'r', encoding='utf8') as f:\n",
    "        content = f.read()\n",
    "        if 'EXHIBIT C' in content:\n",
    "            try:\n",
    "                # print(content.index('EXHIBIT C'))\n",
    "                pitch_content = content[content.index('EXHIBIT C'):content.index('EXHIBIT C')+7000]\n",
    "                document.add_paragraph(pitch_content)\n",
    "\n",
    "            except Exception as e:\n",
    "                print(e)\n",
    "                pass\n",
    "        elif 'PROFILE SCREENSHOTS' in content:\n",
    "            pitch_content = content[content.index('PROFILE SCREENSHOTS'):content.index('PROFILE SCREENSHOTS')+7000]\n",
    "    document.save(pitch_file)\n",
    "\n",
    "            \n",
    "        "
   ]
  },
  {
   "cell_type": "code",
   "execution_count": null,
   "metadata": {},
   "outputs": [],
   "source": [
    "import os\n",
    "text_files = [x for x in os.listdir('Form C\\\\Output Text File') if '.txt' in x]\n",
    "for x in text_files:\n",
    "    text_file_path = 'Form C\\\\Output Text File\\\\' + x\n",
    "    pitch_file_path = 'C:\\\\Users\\\\Tahsin Sayed\\\\Desktop\\\\Image_to_text\\\\Form C\\\\Output Text File\\\\Output Doc File\\\\' + x.split('.txt')[0] + '_pitch.docx'\n",
    "    extract_pitch(text_file_path, pitch_file_path)\n"
   ]
  }
 ],
 "metadata": {
  "kernelspec": {
   "display_name": "Python 3.9.0 64-bit",
   "language": "python",
   "name": "python3"
  },
  "language_info": {
   "codemirror_mode": {
    "name": "ipython",
    "version": 3
   },
   "file_extension": ".py",
   "mimetype": "text/x-python",
   "name": "python",
   "nbconvert_exporter": "python",
   "pygments_lexer": "ipython3",
   "version": "3.9.0 (tags/v3.9.0:9cf6752, Oct  5 2020, 15:34:40) [MSC v.1927 64 bit (AMD64)]"
  },
  "orig_nbformat": 4,
  "vscode": {
   "interpreter": {
    "hash": "8bc0295d3e35c12602cb77450337f13d6dc78e35e6180f390052e59462a633dc"
   }
  }
 },
 "nbformat": 4,
 "nbformat_minor": 2
}
