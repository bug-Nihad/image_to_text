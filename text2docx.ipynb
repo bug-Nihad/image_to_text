{
 "cells": [
  {
   "cell_type": "code",
   "execution_count": 8,
   "metadata": {},
   "outputs": [],
   "source": [
    "from docx import Document"
   ]
  },
  {
   "cell_type": "code",
   "execution_count": 9,
   "metadata": {},
   "outputs": [],
   "source": [
    "def to_docx(file_path_plain_text, file_path_docx):\n",
    "    document = Document()\n",
    "    with open(file_path_plain_text) as f:\n",
    "        for line in f:\n",
    "            document.add_paragraph(line)\n",
    "    document.save(file_path_docx)"
   ]
  },
  {
   "cell_type": "code",
   "execution_count": 10,
   "metadata": {},
   "outputs": [],
   "source": [
    "import os\n",
    "text_files = [x for x in os.listdir('Form C\\\\Output Text File') if '.txt' in x]\n",
    "for x in text_files:\n",
    "    text_file_path = 'Form C\\\\Output Text File\\\\' + x\n",
    "    docx_file_path = 'Form C\\\\Output Text File\\\\' + x.split('.txt')[0] + '.docx'\n",
    "    to_docx(text_file_path, docx_file_path)\n"
   ]
  }
 ],
 "metadata": {
  "kernelspec": {
   "display_name": "Python 3.9.0 64-bit",
   "language": "python",
   "name": "python3"
  },
  "language_info": {
   "codemirror_mode": {
    "name": "ipython",
    "version": 3
   },
   "file_extension": ".py",
   "mimetype": "text/x-python",
   "name": "python",
   "nbconvert_exporter": "python",
   "pygments_lexer": "ipython3",
   "version": "3.9.0"
  },
  "orig_nbformat": 4,
  "vscode": {
   "interpreter": {
    "hash": "8bc0295d3e35c12602cb77450337f13d6dc78e35e6180f390052e59462a633dc"
   }
  }
 },
 "nbformat": 4,
 "nbformat_minor": 2
}
