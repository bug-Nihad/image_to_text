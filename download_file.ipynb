{
 "cells": [
  {
   "cell_type": "code",
   "execution_count": null,
   "metadata": {},
   "outputs": [],
   "source": [
    "from selenium import webdriver\n",
    "from webdriver_auto_update import check_driver\n",
    "import pandas as pd\n",
    "pd.options.mode.chained_assignment = None\n",
    "import os\n",
    "import time\n",
    "import requests as re\n",
    "import time\n",
    "from selenium.webdriver.common.keys import Keys\n",
    "from os.path import exists\n",
    "\n",
    "check_driver(r'C:\\Users\\Tahsin Sayed\\Downloads\\chromedriver_win32')\n"
   ]
  },
  {
   "cell_type": "code",
   "execution_count": null,
   "metadata": {},
   "outputs": [],
   "source": [
    "options = webdriver.ChromeOptions()\n",
    "options.add_argument(\"user-data-dir=C:\\\\Users\\\\Tahsin Sayed\\\\AppData\\\\Local\\\\Google\\\\Chrome\\\\User Data\")\n",
    "driver = webdriver.Chrome(chrome_options=options)\n",
    "# os.chdir(r'C:\\Users\\Tahsin Sayed\\Desktop\\Image_to_text')"
   ]
  },
  {
   "cell_type": "code",
   "execution_count": null,
   "metadata": {},
   "outputs": [],
   "source": [
    "headers = { \n",
    "\t\"User-Agent\": \"Mozilla/5.0 (Windows NT 10.0) AppleWebKit/537.36 (KHTML, like Gecko) Chrome/107.0.0.0 Safari/537.36\"\n",
    "} "
   ]
  },
  {
   "cell_type": "code",
   "execution_count": null,
   "metadata": {},
   "outputs": [],
   "source": [
    "df = pd.read_csv(r'C:\\Users\\Tahsin Sayed\\Desktop\\Image_to_text\\company_list.csv')"
   ]
  },
  {
   "cell_type": "code",
   "execution_count": null,
   "metadata": {},
   "outputs": [],
   "source": [
    "df.tail()"
   ]
  },
  {
   "cell_type": "code",
   "execution_count": null,
   "metadata": {},
   "outputs": [],
   "source": [
    "\n",
    "for _ in range(4):\n",
    "    try:        \n",
    "        for x in df.index:\n",
    "            if df['Downloaded'][x] == 'No':\n",
    "                print(x)\n",
    "                ID = df['ACCESSION_NUMBER'][x]\n",
    "                company = df['NAMEOFISSUER'][x]\n",
    "                year = df['Year'][x]\n",
    "\n",
    "                url = \"https://www.sec.gov/edgar/search/#/q=\" + ID\n",
    "                driver.get(url)\n",
    "                time.sleep(2)\n",
    "                form_c = [x for x in driver.find_elements_by_xpath(\"//a\") if x.text == \"C (Offering statement)\"]\n",
    "                if len(form_c) == 0:\n",
    "                    df['Downloaded'][x] = 'No Form C'\n",
    "                    continue\n",
    "                else:\n",
    "                    form_c[0].click()\n",
    "                    buttons = [x for x in driver.find_elements_by_xpath('//a') if x.text == \"Open filing\"]\n",
    "                    # len(buttons)\n",
    "                    file_link = buttons[0].get_attribute('href').rsplit('/', 1)[0] + '/offeringmemoformc.pdf'\n",
    "                    webdriver.ActionChains(driver).send_keys(Keys.ESCAPE).perform()\n",
    "\n",
    "                    \n",
    "                    # Prevent Duplicates\n",
    "                    i = 0\n",
    "                    path_to_file = file = company.replace('/', '') + str(year) + '_' + str(i) + '.pdf'\n",
    "                    while exists(path_to_file):\n",
    "                        i += 1 \n",
    "                        path_to_file = file = company.replace('/', '') + str(year) + '_' + str(i) + '.pdf'\n",
    "                    data = re.get(file_link, headers = headers)\n",
    "                    with open(path_to_file, 'wb') as file:                        \n",
    "                        file.write(data.content)                \n",
    "\n",
    "\n",
    "                df['Downloaded'][x] = 'Yes'\n",
    "            else:\n",
    "                # print('Already downloaded. ', df['Downloaded'][x])\n",
    "                continue\n",
    "    except Exception as e:\n",
    "        time.sleep(5)\n",
    "        print(e)\n",
    "        pass\n",
    "\n",
    "df.to_csv(r'C:\\Users\\Tahsin Sayed\\Desktop\\Image_to_text\\company_list.csv', index=False)"
   ]
  },
  {
   "cell_type": "markdown",
   "metadata": {},
   "source": [
    "Updating The CSV file"
   ]
  },
  {
   "cell_type": "code",
   "execution_count": null,
   "metadata": {},
   "outputs": [],
   "source": [
    "for x in df.index:\n",
    "            if df['Downloaded'][x] == 'No':\n",
    "                print(x)\n",
    "                ID = df['ACCESSION_NUMBER'][x]\n",
    "                company = df['NAMEOFISSUER'][x]\n",
    "                year = df['Year'][x]\n",
    "\n",
    "                url = \"https://www.sec.gov/edgar/search/#/q=\" + ID\n",
    "                driver.get(url)\n",
    "                time.sleep(2)\n",
    "                form_c = [x for x in driver.find_elements_by_xpath(\"//a\") if x.text == \"C (Offering statement)\"]\n",
    "                if len(form_c) == 0:\n",
    "                    df['Downloaded'][x] = 'No Form C'\n",
    "                    continue\n",
    "                else:\n",
    "                    form_c[0].click()\n",
    "                    buttons = [x for x in driver.find_elements_by_xpath('//a') if x.text == \"Open filing\"]\n",
    "                    # len(buttons)\n",
    "                    file_link = buttons[0].get_attribute('href').rsplit('/', 1)[0] + '/offeringmemoformc.pdf'\n",
    "                    webdriver.ActionChains(driver).send_keys(Keys.ESCAPE).perform()\n",
    "\n",
    "                    \n",
    "                    # Prevent Duplicates\n",
    "                    i = 0\n",
    "                    path_to_file = file = company.replace('/', '') + str(year) + '_' + str(i) + '.pdf'\n",
    "                    while exists(path_to_file):\n",
    "                        i += 1 \n",
    "                        path_to_file = file = company.replace('/', '') + str(year) + '_' + str(i) + '.pdf'\n",
    "                    with open(path_to_file, 'wb') as file:\n",
    "                        data = re.get(file_link, headers = headers)\n",
    "                        file.write(data.content)                \n",
    "\n",
    "\n",
    "                df['Downloaded'][x] = 'Yes'\n",
    "            else:\n",
    "                print('Already downloaded. ', df['Downloaded'][x])\n",
    "                continue"
   ]
  },
  {
   "cell_type": "code",
   "execution_count": null,
   "metadata": {},
   "outputs": [],
   "source": [
    "df.to_csv(r'C:\\Users\\Tahsin Sayed\\Desktop\\Image_to_text\\company_list.csv', index=False)\n",
    "# df.to_csv(r'company_list.csv', index=False)"
   ]
  }
 ],
 "metadata": {
  "kernelspec": {
   "display_name": "Python 3.9.0 64-bit",
   "language": "python",
   "name": "python3"
  },
  "language_info": {
   "codemirror_mode": {
    "name": "ipython",
    "version": 3
   },
   "file_extension": ".py",
   "mimetype": "text/x-python",
   "name": "python",
   "nbconvert_exporter": "python",
   "pygments_lexer": "ipython3",
   "version": "3.9.0"
  },
  "orig_nbformat": 4,
  "vscode": {
   "interpreter": {
    "hash": "8bc0295d3e35c12602cb77450337f13d6dc78e35e6180f390052e59462a633dc"
   }
  }
 },
 "nbformat": 4,
 "nbformat_minor": 2
}
