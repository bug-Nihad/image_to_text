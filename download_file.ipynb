{
 "cells": [
  {
   "cell_type": "code",
   "execution_count": 7,
   "metadata": {},
   "outputs": [
    {
     "name": "stdout",
     "output_type": "stream",
     "text": [
      "Local chromedriver version: 107.0.5304.62\n",
      "Latest online chromedriver version: 107.0.5304.62\n"
     ]
    },
    {
     "data": {
      "text/plain": [
       "True"
      ]
     },
     "execution_count": 7,
     "metadata": {},
     "output_type": "execute_result"
    }
   ],
   "source": [
    "from selenium import webdriver\n",
    "from webdriver_auto_update import check_driver\n",
    "import pandas as pd\n",
    "pd.options.mode.chained_assignment = None\n",
    "import os\n",
    "import time\n",
    "import requests as re\n",
    "import time\n",
    "from selenium.webdriver.common.keys import Keys\n",
    "from os.path import exists\n",
    "\n",
    "check_driver(r'C:\\Users\\Tahsin Sayed\\Downloads\\chromedriver_win32')\n"
   ]
  },
  {
   "cell_type": "code",
   "execution_count": 8,
   "metadata": {},
   "outputs": [
    {
     "name": "stderr",
     "output_type": "stream",
     "text": [
      "C:\\Users\\TAHSIN~1\\AppData\\Local\\Temp/ipykernel_8584/2027794434.py:3: DeprecationWarning: use options instead of chrome_options\n",
      "  driver = webdriver.Chrome(chrome_options=options)\n"
     ]
    }
   ],
   "source": [
    "options = webdriver.ChromeOptions()\n",
    "options.add_argument(\"user-data-dir=C:\\\\Users\\\\Tahsin Sayed\\\\AppData\\\\Local\\\\Google\\\\Chrome\\\\User Data\")\n",
    "driver = webdriver.Chrome(chrome_options=options)\n",
    "# os.chdir(r'C:\\Users\\Tahsin Sayed\\Desktop\\Image_to_text')"
   ]
  },
  {
   "cell_type": "code",
   "execution_count": 9,
   "metadata": {},
   "outputs": [],
   "source": [
    "headers = { \n",
    "\t\"User-Agent\": \"Mozilla/5.0 (Windows NT 10.0) AppleWebKit/537.36 (KHTML, like Gecko) Chrome/107.0.0.0 Safari/537.36\"\n",
    "} "
   ]
  },
  {
   "cell_type": "code",
   "execution_count": 10,
   "metadata": {},
   "outputs": [],
   "source": [
    "df = pd.read_csv(r'C:\\Users\\Tahsin Sayed\\Desktop\\Image_to_text\\company_list.csv')"
   ]
  },
  {
   "cell_type": "code",
   "execution_count": 11,
   "metadata": {},
   "outputs": [
    {
     "data": {
      "text/html": [
       "<div>\n",
       "<style scoped>\n",
       "    .dataframe tbody tr th:only-of-type {\n",
       "        vertical-align: middle;\n",
       "    }\n",
       "\n",
       "    .dataframe tbody tr th {\n",
       "        vertical-align: top;\n",
       "    }\n",
       "\n",
       "    .dataframe thead th {\n",
       "        text-align: right;\n",
       "    }\n",
       "</style>\n",
       "<table border=\"1\" class=\"dataframe\">\n",
       "  <thead>\n",
       "    <tr style=\"text-align: right;\">\n",
       "      <th></th>\n",
       "      <th>ACCESSION_NUMBER</th>\n",
       "      <th>NAMEOFISSUER</th>\n",
       "      <th>Downloaded</th>\n",
       "      <th>Year</th>\n",
       "    </tr>\n",
       "  </thead>\n",
       "  <tbody>\n",
       "    <tr>\n",
       "      <th>738</th>\n",
       "      <td>0001665160-18-001277</td>\n",
       "      <td>ToGoBOX Inc.</td>\n",
       "      <td>No</td>\n",
       "      <td>2018</td>\n",
       "    </tr>\n",
       "    <tr>\n",
       "      <th>739</th>\n",
       "      <td>0001670254-18-000605</td>\n",
       "      <td>Trustwire Corporation</td>\n",
       "      <td>No</td>\n",
       "      <td>2018</td>\n",
       "    </tr>\n",
       "    <tr>\n",
       "      <th>740</th>\n",
       "      <td>0001665160-18-001109</td>\n",
       "      <td>Vizrom Inc.</td>\n",
       "      <td>No</td>\n",
       "      <td>2018</td>\n",
       "    </tr>\n",
       "    <tr>\n",
       "      <th>741</th>\n",
       "      <td>0001665160-18-001297</td>\n",
       "      <td>Wand USA Inc.</td>\n",
       "      <td>No</td>\n",
       "      <td>2018</td>\n",
       "    </tr>\n",
       "    <tr>\n",
       "      <th>742</th>\n",
       "      <td>0001665160-18-001021</td>\n",
       "      <td>YOPI TECHNOLOGIES INC</td>\n",
       "      <td>No</td>\n",
       "      <td>2018</td>\n",
       "    </tr>\n",
       "  </tbody>\n",
       "</table>\n",
       "</div>"
      ],
      "text/plain": [
       "         ACCESSION_NUMBER           NAMEOFISSUER Downloaded  Year\n",
       "738  0001665160-18-001277           ToGoBOX Inc.         No  2018\n",
       "739  0001670254-18-000605  Trustwire Corporation         No  2018\n",
       "740  0001665160-18-001109            Vizrom Inc.         No  2018\n",
       "741  0001665160-18-001297          Wand USA Inc.         No  2018\n",
       "742  0001665160-18-001021  YOPI TECHNOLOGIES INC         No  2018"
      ]
     },
     "execution_count": 11,
     "metadata": {},
     "output_type": "execute_result"
    }
   ],
   "source": [
    "df.tail()"
   ]
  },
  {
   "cell_type": "code",
   "execution_count": 13,
   "metadata": {},
   "outputs": [],
   "source": [
    "\n",
    "for _ in range(4):\n",
    "    try:        \n",
    "        for x in df.index:\n",
    "            if df['Downloaded'][x] == 'No':\n",
    "                print(x)\n",
    "                ID = df['ACCESSION_NUMBER'][x]\n",
    "                company = df['NAMEOFISSUER'][x]\n",
    "                year = df['Year'][x]\n",
    "\n",
    "                url = \"https://www.sec.gov/edgar/search/#/q=\" + ID\n",
    "                driver.get(url)\n",
    "                time.sleep(2)\n",
    "                form_c = [x for x in driver.find_elements_by_xpath(\"//a\") if x.text == \"C (Offering statement)\"]\n",
    "                if len(form_c) == 0:\n",
    "                    df['Downloaded'][x] = 'No Form C'\n",
    "                    continue\n",
    "                else:\n",
    "                    form_c[0].click()\n",
    "                    buttons = [x for x in driver.find_elements_by_xpath('//a') if x.text == \"Open filing\"]\n",
    "                    # len(buttons)\n",
    "                    file_link = buttons[0].get_attribute('href').rsplit('/', 1)[0] + '/offeringmemoformc.pdf'\n",
    "                    webdriver.ActionChains(driver).send_keys(Keys.ESCAPE).perform()\n",
    "\n",
    "                    \n",
    "                    # Prevent Duplicates\n",
    "                    i = 0\n",
    "                    path_to_file = file = company.replace('/', '') + str(year) + '_' + str(i) + '.pdf'\n",
    "                    while exists(path_to_file):\n",
    "                        i += 1 \n",
    "                        path_to_file = file = company.replace('/', '') + str(year) + '_' + str(i) + '.pdf'\n",
    "                    data = re.get(file_link, headers = headers)\n",
    "                    with open(path_to_file, 'wb') as file:                        \n",
    "                        file.write(data.content)                \n",
    "\n",
    "\n",
    "                df['Downloaded'][x] = 'Yes'\n",
    "            else:\n",
    "                # print('Already downloaded. ', df['Downloaded'][x])\n",
    "                continue\n",
    "    except Exception as e:\n",
    "        time.sleep(5)\n",
    "        print(e)\n",
    "        pass\n",
    "\n",
    "df.to_csv(r'C:\\Users\\Tahsin Sayed\\Desktop\\Image_to_text\\company_list.csv', index=False)"
   ]
  },
  {
   "cell_type": "markdown",
   "metadata": {},
   "source": [
    "Updating The CSV file"
   ]
  },
  {
   "cell_type": "code",
   "execution_count": null,
   "metadata": {},
   "outputs": [],
   "source": [
    "for x in df.index:\n",
    "            if df['Downloaded'][x] == 'No':\n",
    "                print(x)\n",
    "                ID = df['ACCESSION_NUMBER'][x]\n",
    "                company = df['NAMEOFISSUER'][x]\n",
    "                year = df['Year'][x]\n",
    "\n",
    "                url = \"https://www.sec.gov/edgar/search/#/q=\" + ID\n",
    "                driver.get(url)\n",
    "                time.sleep(2)\n",
    "                form_c = [x for x in driver.find_elements_by_xpath(\"//a\") if x.text == \"C (Offering statement)\"]\n",
    "                if len(form_c) == 0:\n",
    "                    df['Downloaded'][x] = 'No Form C'\n",
    "                    continue\n",
    "                else:\n",
    "                    form_c[0].click()\n",
    "                    buttons = [x for x in driver.find_elements_by_xpath('//a') if x.text == \"Open filing\"]\n",
    "                    # len(buttons)\n",
    "                    file_link = buttons[0].get_attribute('href').rsplit('/', 1)[0] + '/offeringmemoformc.pdf'\n",
    "                    webdriver.ActionChains(driver).send_keys(Keys.ESCAPE).perform()\n",
    "\n",
    "                    \n",
    "                    # Prevent Duplicates\n",
    "                    i = 0\n",
    "                    path_to_file = file = company.replace('/', '') + str(year) + '_' + str(i) + '.pdf'\n",
    "                    while exists(path_to_file):\n",
    "                        i += 1 \n",
    "                        path_to_file = file = company.replace('/', '') + str(year) + '_' + str(i) + '.pdf'\n",
    "                    with open(path_to_file, 'wb') as file:\n",
    "                        data = re.get(file_link, headers = headers)\n",
    "                        file.write(data.content)                \n",
    "\n",
    "\n",
    "                df['Downloaded'][x] = 'Yes'\n",
    "            else:\n",
    "                print('Already downloaded. ', df['Downloaded'][x])\n",
    "                continue"
   ]
  },
  {
   "cell_type": "code",
   "execution_count": null,
   "metadata": {},
   "outputs": [],
   "source": [
    "df.to_csv(r'C:\\Users\\Tahsin Sayed\\Desktop\\Image_to_text\\company_list.csv', index=False)\n",
    "# df.to_csv(r'company_list.csv', index=False)"
   ]
  }
 ],
 "metadata": {
  "kernelspec": {
   "display_name": "Python 3.9.0 64-bit",
   "language": "python",
   "name": "python3"
  },
  "language_info": {
   "codemirror_mode": {
    "name": "ipython",
    "version": 3
   },
   "file_extension": ".py",
   "mimetype": "text/x-python",
   "name": "python",
   "nbconvert_exporter": "python",
   "pygments_lexer": "ipython3",
   "version": "3.9.0"
  },
  "orig_nbformat": 4,
  "vscode": {
   "interpreter": {
    "hash": "8bc0295d3e35c12602cb77450337f13d6dc78e35e6180f390052e59462a633dc"
   }
  }
 },
 "nbformat": 4,
 "nbformat_minor": 2
}
